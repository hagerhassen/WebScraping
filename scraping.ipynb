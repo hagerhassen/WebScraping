{
 "cells": [
  {
   "cell_type": "code",
   "execution_count": 15,
   "outputs": [],
   "source": [
    "import requests\n",
    "from bs4 import BeautifulSoup\n",
    "import csv\n",
    "from itertools import zip_longest"
   ],
   "metadata": {
    "collapsed": false,
    "pycharm": {
     "name": "#%%\n"
    }
   }
  },
  {
   "cell_type": "code",
   "execution_count": 16,
   "outputs": [],
   "source": [
    "job_title = []\n",
    "company_name = []\n",
    "location = []\n",
    "skills = []\n",
    "links = []\n",
    "date = []\n",
    "page_num = 0"
   ],
   "metadata": {
    "collapsed": false,
    "pycharm": {
     "name": "#%%\n"
    }
   }
  },
  {
   "cell_type": "code",
   "execution_count": 17,
   "outputs": [
    {
     "name": "stdout",
     "output_type": "stream",
     "text": [
      "page ended, terminate\n",
      "179\n",
      "page switched\n"
     ]
    }
   ],
   "source": [
    "while True:\n",
    "\n",
    "    result = requests.get(f\"https://wuzzuf.net/search/jobs/?a=hpb&q=python&start={page_num}\")\n",
    "\n",
    "    src = result.content\n",
    "\n",
    "    souplib = BeautifulSoup(src, \"lxml\")\n",
    "\n",
    "    page_limit =int(souplib.find(\"strong\").text)\n",
    "\n",
    "    if (page_num > page_limit // 15):\n",
    "        print(\"page ended, terminate\")\n",
    "        print(page_limit)\n",
    "        break\n",
    "\n",
    "\n",
    "\n",
    "    job_titles = souplib.find_all(\"h2\", {\"class\": \"css-m604qf\"})  ###the return here is a list\n",
    "    #print(job_titles)\n",
    "    company_names = souplib.find_all(\"a\", {\"class\": \"css-17s97q8\"})\n",
    "    #print(company_names)\n",
    "    locations = souplib.find_all(\"span\", {\"class\": \"css-5wys0k\"})\n",
    "    #print(locations)\n",
    "    job_skills = souplib.find_all(\"div\", {\"class\": \"css-y4udm8\"})\n",
    "    #print(job_skills)\n",
    "    posted_new = souplib.find_all(\"div\", {\"class\": \"css-4c4ojb\"})\n",
    "    posted_old = souplib.find_all(\"div\", {\"class\": \"css-do6t5g\"})\n",
    "    posted = [*posted_new, *posted_old]\n",
    "\n",
    "\n",
    "    for i in range(len(job_titles)):\n",
    "        job_title.append(job_titles[i].text)\n",
    "        links.append(job_titles[i].find(\"a\").attrs['href'])\n",
    "        company_name.append(company_names[i].text)\n",
    "        location.append(locations[i].text)\n",
    "        skills.append(job_skills[i].text)\n",
    "        date.append(posted[i].text)\n",
    "\n",
    "    page_num +=1\n",
    "print(\"page switched\")\n"
   ],
   "metadata": {
    "collapsed": false,
    "pycharm": {
     "name": "#%%\n"
    }
   }
  },
  {
   "cell_type": "code",
   "execution_count": 18,
   "outputs": [],
   "source": [
    "file_list = [job_title, company_name, date, location, skills, links]\n",
    "exported = zip_longest(*file_list)"
   ],
   "metadata": {
    "collapsed": false,
    "pycharm": {
     "name": "#%%\n"
    }
   }
  },
  {
   "cell_type": "code",
   "execution_count": 21,
   "outputs": [],
   "source": [
    "with open(\"E:\\web scraping\\jobs.csv\", \"w\" , newline='',encoding=\"utf-8\") as myfile:\n",
    "    wr = csv.writer(myfile)\n",
    "    wr.writerow([\"job title\", \"company name\", \"date\", \"location\", \"skills\", \"links\"])\n",
    "    wr.writerows(exported)"
   ],
   "metadata": {
    "collapsed": false,
    "pycharm": {
     "name": "#%%\n"
    }
   }
  },
  {
   "cell_type": "code",
   "execution_count": null,
   "outputs": [],
   "source": [],
   "metadata": {
    "collapsed": false,
    "pycharm": {
     "name": "#%%\n"
    }
   }
  }
 ],
 "metadata": {
  "kernelspec": {
   "display_name": "Python 3",
   "language": "python",
   "name": "python3"
  },
  "language_info": {
   "codemirror_mode": {
    "name": "ipython",
    "version": 2
   },
   "file_extension": ".py",
   "mimetype": "text/x-python",
   "name": "python",
   "nbconvert_exporter": "python",
   "pygments_lexer": "ipython2",
   "version": "2.7.6"
  }
 },
 "nbformat": 4,
 "nbformat_minor": 0
}